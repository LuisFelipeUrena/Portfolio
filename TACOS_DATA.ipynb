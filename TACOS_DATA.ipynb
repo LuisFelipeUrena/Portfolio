{
  "nbformat": 4,
  "nbformat_minor": 0,
  "metadata": {
    "colab": {
      "name": "TACOS_DATA.ipynb",
      "provenance": [],
      "collapsed_sections": []
    },
    "kernelspec": {
      "name": "python3",
      "display_name": "Python 3"
    }
  },
  "cells": [
    {
      "cell_type": "code",
      "metadata": {
        "id": "9-qfmKtTwJW0",
        "colab_type": "code",
        "colab": {}
      },
      "source": [
        "import numpy as np\n",
        "import pandas as pd\n",
        "import matplotlib.pyplot as plt\n"
      ],
      "execution_count": 0,
      "outputs": []
    },
    {
      "cell_type": "code",
      "metadata": {
        "id": "frK_nvVJxnA0",
        "colab_type": "code",
        "outputId": "6f91e0e6-e2bf-4083-a7a4-fdcac1c99181",
        "colab": {
          "base_uri": "https://localhost:8080/",
          "height": 434
        }
      },
      "source": [
        "#starting to load, explore and clean our main dataset\n",
        "df = pd.read_excel('just tacos and burritos.xlsx')\n",
        "df.head()"
      ],
      "execution_count": 0,
      "outputs": [
        {
          "output_type": "execute_result",
          "data": {
            "text/html": [
              "<div>\n",
              "<style scoped>\n",
              "    .dataframe tbody tr th:only-of-type {\n",
              "        vertical-align: middle;\n",
              "    }\n",
              "\n",
              "    .dataframe tbody tr th {\n",
              "        vertical-align: top;\n",
              "    }\n",
              "\n",
              "    .dataframe thead th {\n",
              "        text-align: right;\n",
              "    }\n",
              "</style>\n",
              "<table border=\"1\" class=\"dataframe\">\n",
              "  <thead>\n",
              "    <tr style=\"text-align: right;\">\n",
              "      <th></th>\n",
              "      <th>id</th>\n",
              "      <th>address</th>\n",
              "      <th>categories</th>\n",
              "      <th>city</th>\n",
              "      <th>country</th>\n",
              "      <th>cuisines</th>\n",
              "      <th>dateAdded</th>\n",
              "      <th>dateUpdated</th>\n",
              "      <th>keys</th>\n",
              "      <th>latitude</th>\n",
              "      <th>longitude</th>\n",
              "      <th>menuPageURL</th>\n",
              "      <th>menus.amountMax</th>\n",
              "      <th>menus.amountMin</th>\n",
              "      <th>menus.category</th>\n",
              "      <th>menus.currency</th>\n",
              "      <th>menus.dateSeen</th>\n",
              "      <th>menus.description</th>\n",
              "      <th>menus.name</th>\n",
              "      <th>name</th>\n",
              "      <th>postalCode</th>\n",
              "      <th>priceRangeCurrency</th>\n",
              "      <th>priceRangeMin</th>\n",
              "      <th>priceRangeMax</th>\n",
              "      <th>province</th>\n",
              "      <th>websites</th>\n",
              "    </tr>\n",
              "  </thead>\n",
              "  <tbody>\n",
              "    <tr>\n",
              "      <th>0</th>\n",
              "      <td>AVwc__cikufWRAb51QjV</td>\n",
              "      <td>610 Commercial St</td>\n",
              "      <td>Restaurant Delivery Service,Restaurants,Pizza,...</td>\n",
              "      <td>Atchison</td>\n",
              "      <td>US</td>\n",
              "      <td>Restaurant Delivery Service</td>\n",
              "      <td>2016-03-02T11:49:34Z</td>\n",
              "      <td>2017-02-01T18:04:44Z</td>\n",
              "      <td>us/ks/atchison/610commercialst/-138126000</td>\n",
              "      <td>39.561570</td>\n",
              "      <td>-95.121020</td>\n",
              "      <td>http://www.yellowpages.com/atchison-ks/mip/gam...</td>\n",
              "      <td>NaN</td>\n",
              "      <td>NaN</td>\n",
              "      <td>NaN</td>\n",
              "      <td>NaN</td>\n",
              "      <td>2017-02-01T18:04:44Z</td>\n",
              "      <td>NaN</td>\n",
              "      <td>Taco</td>\n",
              "      <td>Gambino's Pizza</td>\n",
              "      <td>66002</td>\n",
              "      <td>NaN</td>\n",
              "      <td>NaN</td>\n",
              "      <td>NaN</td>\n",
              "      <td>KS</td>\n",
              "      <td>http://www.gambinospizza.com</td>\n",
              "    </tr>\n",
              "    <tr>\n",
              "      <th>1</th>\n",
              "      <td>AVwc__cikufWRAb51QjV</td>\n",
              "      <td>610 Commercial St</td>\n",
              "      <td>Restaurant Delivery Service,Restaurants,Pizza,...</td>\n",
              "      <td>Atchison</td>\n",
              "      <td>US</td>\n",
              "      <td>Restaurant Delivery Service</td>\n",
              "      <td>2016-03-02T11:49:34Z</td>\n",
              "      <td>2017-02-01T18:04:44Z</td>\n",
              "      <td>us/ks/atchison/610commercialst/-138126000</td>\n",
              "      <td>39.561570</td>\n",
              "      <td>-95.121020</td>\n",
              "      <td>http://www.yellowpages.com/atchison-ks/mip/gam...</td>\n",
              "      <td>NaN</td>\n",
              "      <td>NaN</td>\n",
              "      <td>NaN</td>\n",
              "      <td>NaN</td>\n",
              "      <td>2016-03-02T11:49:34Z</td>\n",
              "      <td>Beef, onion, cheddar cheese, lettuce,  refried...</td>\n",
              "      <td>Taco</td>\n",
              "      <td>Gambino's Pizza</td>\n",
              "      <td>66002</td>\n",
              "      <td>NaN</td>\n",
              "      <td>NaN</td>\n",
              "      <td>NaN</td>\n",
              "      <td>KS</td>\n",
              "      <td>http://www.gambinospizza.com</td>\n",
              "    </tr>\n",
              "    <tr>\n",
              "      <th>2</th>\n",
              "      <td>AVwc__dF_7pvs4fz1Ncy</td>\n",
              "      <td>9521 Morton Davis Dr</td>\n",
              "      <td>Golf Course, American Restaurant, and Resort</td>\n",
              "      <td>Patterson</td>\n",
              "      <td>US</td>\n",
              "      <td>NaN</td>\n",
              "      <td>2016-10-14T01:58:25Z</td>\n",
              "      <td>2016-10-14T01:58:25Z</td>\n",
              "      <td>us/grayson/patterson/9521mortondavisdr/-522005016</td>\n",
              "      <td>37.401855</td>\n",
              "      <td>-121.266703</td>\n",
              "      <td>NaN</td>\n",
              "      <td>NaN</td>\n",
              "      <td>NaN</td>\n",
              "      <td>NaN</td>\n",
              "      <td>NaN</td>\n",
              "      <td>2016-10-14T01:58:25Z</td>\n",
              "      <td>Beef barbacoa or chicken, spanish rice, pico d...</td>\n",
              "      <td>Smotherd Burrito</td>\n",
              "      <td>Diablo Grande Golf &amp; Country Club</td>\n",
              "      <td>95363</td>\n",
              "      <td>NaN</td>\n",
              "      <td>NaN</td>\n",
              "      <td>NaN</td>\n",
              "      <td>Grayson</td>\n",
              "      <td>http://www.diablogrande.com/</td>\n",
              "    </tr>\n",
              "    <tr>\n",
              "      <th>3</th>\n",
              "      <td>AVwc__kCByjofQCxkdm-</td>\n",
              "      <td>10550 W I 25 Frontage Rd</td>\n",
              "      <td>Fast Food Restaurant</td>\n",
              "      <td>Longmont</td>\n",
              "      <td>US</td>\n",
              "      <td>NaN</td>\n",
              "      <td>2016-09-09T17:30:34Z</td>\n",
              "      <td>2016-10-04T05:15:17Z</td>\n",
              "      <td>us/niwot/longmont/10550wi25frontagerd/-1161002137</td>\n",
              "      <td>NaN</td>\n",
              "      <td>NaN</td>\n",
              "      <td>NaN</td>\n",
              "      <td>NaN</td>\n",
              "      <td>NaN</td>\n",
              "      <td>NaN</td>\n",
              "      <td>NaN</td>\n",
              "      <td>2016-09-09T17:30:34Z</td>\n",
              "      <td>NaN</td>\n",
              "      <td>Sausage Burrito</td>\n",
              "      <td>Mcdonald's</td>\n",
              "      <td>80504</td>\n",
              "      <td>NaN</td>\n",
              "      <td>NaN</td>\n",
              "      <td>NaN</td>\n",
              "      <td>Niwot</td>\n",
              "      <td>http://mcdonalds.com</td>\n",
              "    </tr>\n",
              "    <tr>\n",
              "      <th>4</th>\n",
              "      <td>AVwc__WtByjofQCxkdkR</td>\n",
              "      <td>8495 W 3rd St</td>\n",
              "      <td>Mexican Restaurant Mid-City West,Mexican Resta...</td>\n",
              "      <td>Los Angeles</td>\n",
              "      <td>US</td>\n",
              "      <td>Mexican</td>\n",
              "      <td>2016-05-19T11:50:25Z</td>\n",
              "      <td>2016-09-11T00:06:37Z</td>\n",
              "      <td>us/bicentennial/losangeles/8495w3rdst/-251199537</td>\n",
              "      <td>34.080724</td>\n",
              "      <td>-118.389578</td>\n",
              "      <td>NaN</td>\n",
              "      <td>NaN</td>\n",
              "      <td>NaN</td>\n",
              "      <td>NaN</td>\n",
              "      <td>NaN</td>\n",
              "      <td>2016-05-19T11:50:25Z</td>\n",
              "      <td>Wahoo, avocado, cabbage, pico de gallo  and av...</td>\n",
              "      <td>Wahoo Tacogrilled</td>\n",
              "      <td>Baja Fresh Mexican Grill</td>\n",
              "      <td>90048</td>\n",
              "      <td>USD</td>\n",
              "      <td>0.0</td>\n",
              "      <td>25.0</td>\n",
              "      <td>Bicentennial</td>\n",
              "      <td>http://bajafresh.com</td>\n",
              "    </tr>\n",
              "  </tbody>\n",
              "</table>\n",
              "</div>"
            ],
            "text/plain": [
              "                     id  ...                      websites\n",
              "0  AVwc__cikufWRAb51QjV  ...  http://www.gambinospizza.com\n",
              "1  AVwc__cikufWRAb51QjV  ...  http://www.gambinospizza.com\n",
              "2  AVwc__dF_7pvs4fz1Ncy  ...  http://www.diablogrande.com/\n",
              "3  AVwc__kCByjofQCxkdm-  ...          http://mcdonalds.com\n",
              "4  AVwc__WtByjofQCxkdkR  ...          http://bajafresh.com\n",
              "\n",
              "[5 rows x 26 columns]"
            ]
          },
          "metadata": {
            "tags": []
          },
          "execution_count": 60
        }
      ]
    },
    {
      "cell_type": "code",
      "metadata": {
        "id": "4Kj_RPR4xz1I",
        "colab_type": "code",
        "outputId": "f6de2f30-7b10-4006-a717-b7289e0612e4",
        "colab": {
          "base_uri": "https://localhost:8080/",
          "height": 383
        }
      },
      "source": [
        "df.tail()"
      ],
      "execution_count": 0,
      "outputs": [
        {
          "output_type": "execute_result",
          "data": {
            "text/html": [
              "<div>\n",
              "<style scoped>\n",
              "    .dataframe tbody tr th:only-of-type {\n",
              "        vertical-align: middle;\n",
              "    }\n",
              "\n",
              "    .dataframe tbody tr th {\n",
              "        vertical-align: top;\n",
              "    }\n",
              "\n",
              "    .dataframe thead th {\n",
              "        text-align: right;\n",
              "    }\n",
              "</style>\n",
              "<table border=\"1\" class=\"dataframe\">\n",
              "  <thead>\n",
              "    <tr style=\"text-align: right;\">\n",
              "      <th></th>\n",
              "      <th>id</th>\n",
              "      <th>address</th>\n",
              "      <th>categories</th>\n",
              "      <th>city</th>\n",
              "      <th>country</th>\n",
              "      <th>cuisines</th>\n",
              "      <th>dateAdded</th>\n",
              "      <th>dateUpdated</th>\n",
              "      <th>keys</th>\n",
              "      <th>latitude</th>\n",
              "      <th>longitude</th>\n",
              "      <th>menuPageURL</th>\n",
              "      <th>menus.amountMax</th>\n",
              "      <th>menus.amountMin</th>\n",
              "      <th>menus.category</th>\n",
              "      <th>menus.currency</th>\n",
              "      <th>menus.dateSeen</th>\n",
              "      <th>menus.description</th>\n",
              "      <th>menus.name</th>\n",
              "      <th>name</th>\n",
              "      <th>postalCode</th>\n",
              "      <th>priceRangeCurrency</th>\n",
              "      <th>priceRangeMin</th>\n",
              "      <th>priceRangeMax</th>\n",
              "      <th>province</th>\n",
              "      <th>websites</th>\n",
              "    </tr>\n",
              "  </thead>\n",
              "  <tbody>\n",
              "    <tr>\n",
              "      <th>77255</th>\n",
              "      <td>AVzRLlQNLD2H7whiWdH_</td>\n",
              "      <td>3919 24th St.</td>\n",
              "      <td>Restaurant</td>\n",
              "      <td>San Francisco</td>\n",
              "      <td>US</td>\n",
              "      <td>Mexican</td>\n",
              "      <td>2017-06-22T19:01:33Z</td>\n",
              "      <td>2017-06-22T19:01:33Z</td>\n",
              "      <td>us/california/sanfrancisco/391924thst/-62682760</td>\n",
              "      <td>37.751392</td>\n",
              "      <td>-122.43018</td>\n",
              "      <td>NaN</td>\n",
              "      <td>NaN</td>\n",
              "      <td>NaN</td>\n",
              "      <td>NaN</td>\n",
              "      <td>USD</td>\n",
              "      <td>2017-06-22T16:40:06.448Z</td>\n",
              "      <td>meat, rice, beans, guacamole, sour cream, chee...</td>\n",
              "      <td>Super Burrito</td>\n",
              "      <td>La Casona Taqueria</td>\n",
              "      <td>94114-3703</td>\n",
              "      <td>NaN</td>\n",
              "      <td>NaN</td>\n",
              "      <td>NaN</td>\n",
              "      <td>California</td>\n",
              "      <td>NaN</td>\n",
              "    </tr>\n",
              "    <tr>\n",
              "      <th>77256</th>\n",
              "      <td>AVzRLlQNLD2H7whiWdH_</td>\n",
              "      <td>3919 24th St.</td>\n",
              "      <td>Restaurant</td>\n",
              "      <td>San Francisco</td>\n",
              "      <td>US</td>\n",
              "      <td>Mexican</td>\n",
              "      <td>2017-06-22T19:01:33Z</td>\n",
              "      <td>2017-06-22T19:01:33Z</td>\n",
              "      <td>us/california/sanfrancisco/391924thst/-62682760</td>\n",
              "      <td>37.751392</td>\n",
              "      <td>-122.43018</td>\n",
              "      <td>NaN</td>\n",
              "      <td>NaN</td>\n",
              "      <td>NaN</td>\n",
              "      <td>NaN</td>\n",
              "      <td>USD</td>\n",
              "      <td>2017-06-22T16:40:06.448Z</td>\n",
              "      <td>melted cheese, rice, beans &amp; salsa</td>\n",
              "      <td>Steamed Broccoli Burrito</td>\n",
              "      <td>La Casona Taqueria</td>\n",
              "      <td>94114-3703</td>\n",
              "      <td>NaN</td>\n",
              "      <td>NaN</td>\n",
              "      <td>NaN</td>\n",
              "      <td>California</td>\n",
              "      <td>NaN</td>\n",
              "    </tr>\n",
              "    <tr>\n",
              "      <th>77257</th>\n",
              "      <td>AVzRLlQNLD2H7whiWdH_</td>\n",
              "      <td>3919 24th St.</td>\n",
              "      <td>Restaurant</td>\n",
              "      <td>San Francisco</td>\n",
              "      <td>US</td>\n",
              "      <td>Mexican</td>\n",
              "      <td>2017-06-22T19:01:33Z</td>\n",
              "      <td>2017-06-22T19:01:33Z</td>\n",
              "      <td>us/california/sanfrancisco/391924thst/-62682760</td>\n",
              "      <td>37.751392</td>\n",
              "      <td>-122.43018</td>\n",
              "      <td>NaN</td>\n",
              "      <td>NaN</td>\n",
              "      <td>NaN</td>\n",
              "      <td>NaN</td>\n",
              "      <td>USD</td>\n",
              "      <td>2017-06-22T16:40:06.448Z</td>\n",
              "      <td>meat &amp; salsa</td>\n",
              "      <td>Regular Taco</td>\n",
              "      <td>La Casona Taqueria</td>\n",
              "      <td>94114-3703</td>\n",
              "      <td>NaN</td>\n",
              "      <td>NaN</td>\n",
              "      <td>NaN</td>\n",
              "      <td>California</td>\n",
              "      <td>NaN</td>\n",
              "    </tr>\n",
              "    <tr>\n",
              "      <th>77258</th>\n",
              "      <td>AVzRLlQNLD2H7whiWdH_</td>\n",
              "      <td>3919 24th St.</td>\n",
              "      <td>Restaurant</td>\n",
              "      <td>San Francisco</td>\n",
              "      <td>US</td>\n",
              "      <td>Mexican</td>\n",
              "      <td>2017-06-22T19:01:33Z</td>\n",
              "      <td>2017-06-22T19:01:33Z</td>\n",
              "      <td>us/california/sanfrancisco/391924thst/-62682760</td>\n",
              "      <td>37.751392</td>\n",
              "      <td>-122.43018</td>\n",
              "      <td>NaN</td>\n",
              "      <td>NaN</td>\n",
              "      <td>NaN</td>\n",
              "      <td>NaN</td>\n",
              "      <td>USD</td>\n",
              "      <td>2017-06-22T16:40:06.448Z</td>\n",
              "      <td>meat, rice, beans &amp; salsa</td>\n",
              "      <td>Regular Burrito</td>\n",
              "      <td>La Casona Taqueria</td>\n",
              "      <td>94114-3703</td>\n",
              "      <td>NaN</td>\n",
              "      <td>NaN</td>\n",
              "      <td>NaN</td>\n",
              "      <td>California</td>\n",
              "      <td>NaN</td>\n",
              "    </tr>\n",
              "    <tr>\n",
              "      <th>77259</th>\n",
              "      <td>AVzRLlQNLD2H7whiWdH_</td>\n",
              "      <td>3919 24th St.</td>\n",
              "      <td>Restaurant</td>\n",
              "      <td>San Francisco</td>\n",
              "      <td>US</td>\n",
              "      <td>Mexican</td>\n",
              "      <td>2017-06-22T19:01:33Z</td>\n",
              "      <td>2017-06-22T19:01:33Z</td>\n",
              "      <td>us/california/sanfrancisco/391924thst/-62682760</td>\n",
              "      <td>37.751392</td>\n",
              "      <td>-122.43018</td>\n",
              "      <td>NaN</td>\n",
              "      <td>NaN</td>\n",
              "      <td>NaN</td>\n",
              "      <td>NaN</td>\n",
              "      <td>USD</td>\n",
              "      <td>2017-06-22T16:40:06.448Z</td>\n",
              "      <td>stuffed with rice, beans, meat, topped with en...</td>\n",
              "      <td>Azteca Burrito</td>\n",
              "      <td>La Casona Taqueria</td>\n",
              "      <td>94114-3703</td>\n",
              "      <td>NaN</td>\n",
              "      <td>NaN</td>\n",
              "      <td>NaN</td>\n",
              "      <td>California</td>\n",
              "      <td>NaN</td>\n",
              "    </tr>\n",
              "  </tbody>\n",
              "</table>\n",
              "</div>"
            ],
            "text/plain": [
              "                         id        address  ...    province websites\n",
              "77255  AVzRLlQNLD2H7whiWdH_  3919 24th St.  ...  California      NaN\n",
              "77256  AVzRLlQNLD2H7whiWdH_  3919 24th St.  ...  California      NaN\n",
              "77257  AVzRLlQNLD2H7whiWdH_  3919 24th St.  ...  California      NaN\n",
              "77258  AVzRLlQNLD2H7whiWdH_  3919 24th St.  ...  California      NaN\n",
              "77259  AVzRLlQNLD2H7whiWdH_  3919 24th St.  ...  California      NaN\n",
              "\n",
              "[5 rows x 26 columns]"
            ]
          },
          "metadata": {
            "tags": []
          },
          "execution_count": 61
        }
      ]
    },
    {
      "cell_type": "code",
      "metadata": {
        "id": "HoaRFV0zyBze",
        "colab_type": "code",
        "outputId": "104294f4-1724-45ad-ac5f-0ce9857284b2",
        "colab": {
          "base_uri": "https://localhost:8080/",
          "height": 487
        }
      },
      "source": [
        "#checking for NAN values in our set\n",
        "print(df.isnull().sum())\n",
        "print(df.shape)"
      ],
      "execution_count": 0,
      "outputs": [
        {
          "output_type": "stream",
          "text": [
            "id                        0\n",
            "address                   0\n",
            "categories                0\n",
            "city                      0\n",
            "country                   0\n",
            "cuisines              38876\n",
            "dateAdded                 0\n",
            "dateUpdated               0\n",
            "keys                      0\n",
            "latitude              21624\n",
            "longitude             21624\n",
            "menuPageURL           67206\n",
            "menus.amountMax       37000\n",
            "menus.amountMin       37000\n",
            "menus.category        73531\n",
            "menus.currency        36749\n",
            "menus.dateSeen            0\n",
            "menus.description     47937\n",
            "menus.name                0\n",
            "name                      3\n",
            "postalCode              423\n",
            "priceRangeCurrency    29101\n",
            "priceRangeMin         29101\n",
            "priceRangeMax         29101\n",
            "province                  3\n",
            "websites              21271\n",
            "dtype: int64\n",
            "(77260, 26)\n"
          ],
          "name": "stdout"
        }
      ]
    },
    {
      "cell_type": "code",
      "metadata": {
        "id": "b3KiWM9FygSk",
        "colab_type": "code",
        "outputId": "228a02b6-5b93-4c43-d2d8-d98f58540e62",
        "colab": {
          "base_uri": "https://localhost:8080/",
          "height": 434
        }
      },
      "source": [
        "df = df.drop('id',axis=1)\n",
        "\n",
        "df.head()"
      ],
      "execution_count": 0,
      "outputs": [
        {
          "output_type": "execute_result",
          "data": {
            "text/html": [
              "<div>\n",
              "<style scoped>\n",
              "    .dataframe tbody tr th:only-of-type {\n",
              "        vertical-align: middle;\n",
              "    }\n",
              "\n",
              "    .dataframe tbody tr th {\n",
              "        vertical-align: top;\n",
              "    }\n",
              "\n",
              "    .dataframe thead th {\n",
              "        text-align: right;\n",
              "    }\n",
              "</style>\n",
              "<table border=\"1\" class=\"dataframe\">\n",
              "  <thead>\n",
              "    <tr style=\"text-align: right;\">\n",
              "      <th></th>\n",
              "      <th>address</th>\n",
              "      <th>categories</th>\n",
              "      <th>city</th>\n",
              "      <th>country</th>\n",
              "      <th>cuisines</th>\n",
              "      <th>dateAdded</th>\n",
              "      <th>dateUpdated</th>\n",
              "      <th>keys</th>\n",
              "      <th>latitude</th>\n",
              "      <th>longitude</th>\n",
              "      <th>menuPageURL</th>\n",
              "      <th>menus.amountMax</th>\n",
              "      <th>menus.amountMin</th>\n",
              "      <th>menus.category</th>\n",
              "      <th>menus.currency</th>\n",
              "      <th>menus.dateSeen</th>\n",
              "      <th>menus.description</th>\n",
              "      <th>menus.name</th>\n",
              "      <th>name</th>\n",
              "      <th>postalCode</th>\n",
              "      <th>priceRangeCurrency</th>\n",
              "      <th>priceRangeMin</th>\n",
              "      <th>priceRangeMax</th>\n",
              "      <th>province</th>\n",
              "      <th>websites</th>\n",
              "    </tr>\n",
              "  </thead>\n",
              "  <tbody>\n",
              "    <tr>\n",
              "      <th>0</th>\n",
              "      <td>610 Commercial St</td>\n",
              "      <td>Restaurant Delivery Service,Restaurants,Pizza,...</td>\n",
              "      <td>Atchison</td>\n",
              "      <td>US</td>\n",
              "      <td>Restaurant Delivery Service</td>\n",
              "      <td>2016-03-02T11:49:34Z</td>\n",
              "      <td>2017-02-01T18:04:44Z</td>\n",
              "      <td>us/ks/atchison/610commercialst/-138126000</td>\n",
              "      <td>39.561570</td>\n",
              "      <td>-95.121020</td>\n",
              "      <td>http://www.yellowpages.com/atchison-ks/mip/gam...</td>\n",
              "      <td>NaN</td>\n",
              "      <td>NaN</td>\n",
              "      <td>NaN</td>\n",
              "      <td>NaN</td>\n",
              "      <td>2017-02-01T18:04:44Z</td>\n",
              "      <td>NaN</td>\n",
              "      <td>Taco</td>\n",
              "      <td>Gambino's Pizza</td>\n",
              "      <td>66002</td>\n",
              "      <td>NaN</td>\n",
              "      <td>NaN</td>\n",
              "      <td>NaN</td>\n",
              "      <td>KS</td>\n",
              "      <td>http://www.gambinospizza.com</td>\n",
              "    </tr>\n",
              "    <tr>\n",
              "      <th>1</th>\n",
              "      <td>610 Commercial St</td>\n",
              "      <td>Restaurant Delivery Service,Restaurants,Pizza,...</td>\n",
              "      <td>Atchison</td>\n",
              "      <td>US</td>\n",
              "      <td>Restaurant Delivery Service</td>\n",
              "      <td>2016-03-02T11:49:34Z</td>\n",
              "      <td>2017-02-01T18:04:44Z</td>\n",
              "      <td>us/ks/atchison/610commercialst/-138126000</td>\n",
              "      <td>39.561570</td>\n",
              "      <td>-95.121020</td>\n",
              "      <td>http://www.yellowpages.com/atchison-ks/mip/gam...</td>\n",
              "      <td>NaN</td>\n",
              "      <td>NaN</td>\n",
              "      <td>NaN</td>\n",
              "      <td>NaN</td>\n",
              "      <td>2016-03-02T11:49:34Z</td>\n",
              "      <td>Beef, onion, cheddar cheese, lettuce,  refried...</td>\n",
              "      <td>Taco</td>\n",
              "      <td>Gambino's Pizza</td>\n",
              "      <td>66002</td>\n",
              "      <td>NaN</td>\n",
              "      <td>NaN</td>\n",
              "      <td>NaN</td>\n",
              "      <td>KS</td>\n",
              "      <td>http://www.gambinospizza.com</td>\n",
              "    </tr>\n",
              "    <tr>\n",
              "      <th>2</th>\n",
              "      <td>9521 Morton Davis Dr</td>\n",
              "      <td>Golf Course, American Restaurant, and Resort</td>\n",
              "      <td>Patterson</td>\n",
              "      <td>US</td>\n",
              "      <td>NaN</td>\n",
              "      <td>2016-10-14T01:58:25Z</td>\n",
              "      <td>2016-10-14T01:58:25Z</td>\n",
              "      <td>us/grayson/patterson/9521mortondavisdr/-522005016</td>\n",
              "      <td>37.401855</td>\n",
              "      <td>-121.266703</td>\n",
              "      <td>NaN</td>\n",
              "      <td>NaN</td>\n",
              "      <td>NaN</td>\n",
              "      <td>NaN</td>\n",
              "      <td>NaN</td>\n",
              "      <td>2016-10-14T01:58:25Z</td>\n",
              "      <td>Beef barbacoa or chicken, spanish rice, pico d...</td>\n",
              "      <td>Smotherd Burrito</td>\n",
              "      <td>Diablo Grande Golf &amp; Country Club</td>\n",
              "      <td>95363</td>\n",
              "      <td>NaN</td>\n",
              "      <td>NaN</td>\n",
              "      <td>NaN</td>\n",
              "      <td>Grayson</td>\n",
              "      <td>http://www.diablogrande.com/</td>\n",
              "    </tr>\n",
              "    <tr>\n",
              "      <th>3</th>\n",
              "      <td>10550 W I 25 Frontage Rd</td>\n",
              "      <td>Fast Food Restaurant</td>\n",
              "      <td>Longmont</td>\n",
              "      <td>US</td>\n",
              "      <td>NaN</td>\n",
              "      <td>2016-09-09T17:30:34Z</td>\n",
              "      <td>2016-10-04T05:15:17Z</td>\n",
              "      <td>us/niwot/longmont/10550wi25frontagerd/-1161002137</td>\n",
              "      <td>NaN</td>\n",
              "      <td>NaN</td>\n",
              "      <td>NaN</td>\n",
              "      <td>NaN</td>\n",
              "      <td>NaN</td>\n",
              "      <td>NaN</td>\n",
              "      <td>NaN</td>\n",
              "      <td>2016-09-09T17:30:34Z</td>\n",
              "      <td>NaN</td>\n",
              "      <td>Sausage Burrito</td>\n",
              "      <td>Mcdonald's</td>\n",
              "      <td>80504</td>\n",
              "      <td>NaN</td>\n",
              "      <td>NaN</td>\n",
              "      <td>NaN</td>\n",
              "      <td>Niwot</td>\n",
              "      <td>http://mcdonalds.com</td>\n",
              "    </tr>\n",
              "    <tr>\n",
              "      <th>4</th>\n",
              "      <td>8495 W 3rd St</td>\n",
              "      <td>Mexican Restaurant Mid-City West,Mexican Resta...</td>\n",
              "      <td>Los Angeles</td>\n",
              "      <td>US</td>\n",
              "      <td>Mexican</td>\n",
              "      <td>2016-05-19T11:50:25Z</td>\n",
              "      <td>2016-09-11T00:06:37Z</td>\n",
              "      <td>us/bicentennial/losangeles/8495w3rdst/-251199537</td>\n",
              "      <td>34.080724</td>\n",
              "      <td>-118.389578</td>\n",
              "      <td>NaN</td>\n",
              "      <td>NaN</td>\n",
              "      <td>NaN</td>\n",
              "      <td>NaN</td>\n",
              "      <td>NaN</td>\n",
              "      <td>2016-05-19T11:50:25Z</td>\n",
              "      <td>Wahoo, avocado, cabbage, pico de gallo  and av...</td>\n",
              "      <td>Wahoo Tacogrilled</td>\n",
              "      <td>Baja Fresh Mexican Grill</td>\n",
              "      <td>90048</td>\n",
              "      <td>USD</td>\n",
              "      <td>0.0</td>\n",
              "      <td>25.0</td>\n",
              "      <td>Bicentennial</td>\n",
              "      <td>http://bajafresh.com</td>\n",
              "    </tr>\n",
              "  </tbody>\n",
              "</table>\n",
              "</div>"
            ],
            "text/plain": [
              "                    address  ...                      websites\n",
              "0         610 Commercial St  ...  http://www.gambinospizza.com\n",
              "1         610 Commercial St  ...  http://www.gambinospizza.com\n",
              "2      9521 Morton Davis Dr  ...  http://www.diablogrande.com/\n",
              "3  10550 W I 25 Frontage Rd  ...          http://mcdonalds.com\n",
              "4             8495 W 3rd St  ...          http://bajafresh.com\n",
              "\n",
              "[5 rows x 25 columns]"
            ]
          },
          "metadata": {
            "tags": []
          },
          "execution_count": 63
        }
      ]
    },
    {
      "cell_type": "code",
      "metadata": {
        "id": "Xz9fqgrM1PSC",
        "colab_type": "code",
        "outputId": "f4a5d956-e4c9-44e0-a937-e7a43dc0a01a",
        "colab": {
          "base_uri": "https://localhost:8080/",
          "height": 284
        }
      },
      "source": [
        "df.describe()"
      ],
      "execution_count": 0,
      "outputs": [
        {
          "output_type": "execute_result",
          "data": {
            "text/html": [
              "<div>\n",
              "<style scoped>\n",
              "    .dataframe tbody tr th:only-of-type {\n",
              "        vertical-align: middle;\n",
              "    }\n",
              "\n",
              "    .dataframe tbody tr th {\n",
              "        vertical-align: top;\n",
              "    }\n",
              "\n",
              "    .dataframe thead th {\n",
              "        text-align: right;\n",
              "    }\n",
              "</style>\n",
              "<table border=\"1\" class=\"dataframe\">\n",
              "  <thead>\n",
              "    <tr style=\"text-align: right;\">\n",
              "      <th></th>\n",
              "      <th>latitude</th>\n",
              "      <th>longitude</th>\n",
              "      <th>menus.amountMax</th>\n",
              "      <th>menus.amountMin</th>\n",
              "      <th>priceRangeMin</th>\n",
              "      <th>priceRangeMax</th>\n",
              "    </tr>\n",
              "  </thead>\n",
              "  <tbody>\n",
              "    <tr>\n",
              "      <th>count</th>\n",
              "      <td>55636.000000</td>\n",
              "      <td>55636.000000</td>\n",
              "      <td>40260.000000</td>\n",
              "      <td>40260.000000</td>\n",
              "      <td>48159.000000</td>\n",
              "      <td>48159.000000</td>\n",
              "    </tr>\n",
              "    <tr>\n",
              "      <th>mean</th>\n",
              "      <td>36.694846</td>\n",
              "      <td>-98.713309</td>\n",
              "      <td>8.754767</td>\n",
              "      <td>8.611666</td>\n",
              "      <td>13.734837</td>\n",
              "      <td>33.722627</td>\n",
              "    </tr>\n",
              "    <tr>\n",
              "      <th>std</th>\n",
              "      <td>4.835124</td>\n",
              "      <td>18.245857</td>\n",
              "      <td>18.408596</td>\n",
              "      <td>15.708317</td>\n",
              "      <td>14.704344</td>\n",
              "      <td>10.395812</td>\n",
              "    </tr>\n",
              "    <tr>\n",
              "      <th>min</th>\n",
              "      <td>-31.986438</td>\n",
              "      <td>-159.492690</td>\n",
              "      <td>0.000000</td>\n",
              "      <td>0.000000</td>\n",
              "      <td>0.000000</td>\n",
              "      <td>5.000000</td>\n",
              "    </tr>\n",
              "    <tr>\n",
              "      <th>25%</th>\n",
              "      <td>33.668355</td>\n",
              "      <td>-117.647150</td>\n",
              "      <td>5.000000</td>\n",
              "      <td>5.000000</td>\n",
              "      <td>0.000000</td>\n",
              "      <td>25.000000</td>\n",
              "    </tr>\n",
              "    <tr>\n",
              "      <th>50%</th>\n",
              "      <td>36.047195</td>\n",
              "      <td>-96.682320</td>\n",
              "      <td>7.950000</td>\n",
              "      <td>7.950000</td>\n",
              "      <td>25.000000</td>\n",
              "      <td>40.000000</td>\n",
              "    </tr>\n",
              "    <tr>\n",
              "      <th>75%</th>\n",
              "      <td>40.588380</td>\n",
              "      <td>-82.679930</td>\n",
              "      <td>10.500000</td>\n",
              "      <td>10.390000</td>\n",
              "      <td>25.000000</td>\n",
              "      <td>40.000000</td>\n",
              "    </tr>\n",
              "    <tr>\n",
              "      <th>max</th>\n",
              "      <td>61.219460</td>\n",
              "      <td>115.903696</td>\n",
              "      <td>1990.000000</td>\n",
              "      <td>1290.000000</td>\n",
              "      <td>378.000000</td>\n",
              "      <td>755.000000</td>\n",
              "    </tr>\n",
              "  </tbody>\n",
              "</table>\n",
              "</div>"
            ],
            "text/plain": [
              "           latitude     longitude  ...  priceRangeMin  priceRangeMax\n",
              "count  55636.000000  55636.000000  ...   48159.000000   48159.000000\n",
              "mean      36.694846    -98.713309  ...      13.734837      33.722627\n",
              "std        4.835124     18.245857  ...      14.704344      10.395812\n",
              "min      -31.986438   -159.492690  ...       0.000000       5.000000\n",
              "25%       33.668355   -117.647150  ...       0.000000      25.000000\n",
              "50%       36.047195    -96.682320  ...      25.000000      40.000000\n",
              "75%       40.588380    -82.679930  ...      25.000000      40.000000\n",
              "max       61.219460    115.903696  ...     378.000000     755.000000\n",
              "\n",
              "[8 rows x 6 columns]"
            ]
          },
          "metadata": {
            "tags": []
          },
          "execution_count": 64
        }
      ]
    },
    {
      "cell_type": "code",
      "metadata": {
        "id": "qZZDHcgU1faH",
        "colab_type": "code",
        "outputId": "e2c8b427-8bd9-4aa9-adfc-3cc30632a164",
        "colab": {
          "base_uri": "https://localhost:8080/",
          "height": 218
        }
      },
      "source": [
        "#here we are checking the count of restaurants per city\n",
        "df['city'].value_counts()"
      ],
      "execution_count": 0,
      "outputs": [
        {
          "output_type": "execute_result",
          "data": {
            "text/plain": [
              "San Diego        1924\n",
              "Los Angeles      1603\n",
              "Chicago          1186\n",
              "San Francisco    1120\n",
              "New York         1085\n",
              "                 ... \n",
              "Greenland           1\n",
              "Gardner             1\n",
              "Saint Albans        1\n",
              "Cataumet            1\n",
              "Sunrise Beach       1\n",
              "Name: city, Length: 3601, dtype: int64"
            ]
          },
          "metadata": {
            "tags": []
          },
          "execution_count": 65
        }
      ]
    },
    {
      "cell_type": "code",
      "metadata": {
        "id": "sY5zj_VW3Tm6",
        "colab_type": "code",
        "colab": {}
      },
      "source": [
        "#creating new features out of the dataframe to get the information we need\n",
        "top_cities = pd.DataFrame(df['city'].value_counts(),columns=['city'])"
      ],
      "execution_count": 0,
      "outputs": []
    },
    {
      "cell_type": "code",
      "metadata": {
        "id": "lxOxhDvaonAh",
        "colab_type": "code",
        "outputId": "89e53077-9692-457b-bd53-83c24cce5bb8",
        "colab": {
          "base_uri": "https://localhost:8080/",
          "height": 195
        }
      },
      "source": [
        "top_cities.head()"
      ],
      "execution_count": 0,
      "outputs": [
        {
          "output_type": "execute_result",
          "data": {
            "text/html": [
              "<div>\n",
              "<style scoped>\n",
              "    .dataframe tbody tr th:only-of-type {\n",
              "        vertical-align: middle;\n",
              "    }\n",
              "\n",
              "    .dataframe tbody tr th {\n",
              "        vertical-align: top;\n",
              "    }\n",
              "\n",
              "    .dataframe thead th {\n",
              "        text-align: right;\n",
              "    }\n",
              "</style>\n",
              "<table border=\"1\" class=\"dataframe\">\n",
              "  <thead>\n",
              "    <tr style=\"text-align: right;\">\n",
              "      <th></th>\n",
              "      <th>city</th>\n",
              "    </tr>\n",
              "  </thead>\n",
              "  <tbody>\n",
              "    <tr>\n",
              "      <th>San Diego</th>\n",
              "      <td>1924</td>\n",
              "    </tr>\n",
              "    <tr>\n",
              "      <th>Los Angeles</th>\n",
              "      <td>1603</td>\n",
              "    </tr>\n",
              "    <tr>\n",
              "      <th>Chicago</th>\n",
              "      <td>1186</td>\n",
              "    </tr>\n",
              "    <tr>\n",
              "      <th>San Francisco</th>\n",
              "      <td>1120</td>\n",
              "    </tr>\n",
              "    <tr>\n",
              "      <th>New York</th>\n",
              "      <td>1085</td>\n",
              "    </tr>\n",
              "  </tbody>\n",
              "</table>\n",
              "</div>"
            ],
            "text/plain": [
              "               city\n",
              "San Diego      1924\n",
              "Los Angeles    1603\n",
              "Chicago        1186\n",
              "San Francisco  1120\n",
              "New York       1085"
            ]
          },
          "metadata": {
            "tags": []
          },
          "execution_count": 67
        }
      ]
    },
    {
      "cell_type": "code",
      "metadata": {
        "id": "zF5ZJP5-o9tS",
        "colab_type": "code",
        "outputId": "d1523f29-2219-4bc3-d5ad-79fde9457d39",
        "colab": {
          "base_uri": "https://localhost:8080/",
          "height": 402
        }
      },
      "source": [
        "#resetting the index since originally the index was set to the cities\n",
        "top_cities.reset_index(inplace=True)\n",
        "top_cities"
      ],
      "execution_count": 0,
      "outputs": [
        {
          "output_type": "execute_result",
          "data": {
            "text/html": [
              "<div>\n",
              "<style scoped>\n",
              "    .dataframe tbody tr th:only-of-type {\n",
              "        vertical-align: middle;\n",
              "    }\n",
              "\n",
              "    .dataframe tbody tr th {\n",
              "        vertical-align: top;\n",
              "    }\n",
              "\n",
              "    .dataframe thead th {\n",
              "        text-align: right;\n",
              "    }\n",
              "</style>\n",
              "<table border=\"1\" class=\"dataframe\">\n",
              "  <thead>\n",
              "    <tr style=\"text-align: right;\">\n",
              "      <th></th>\n",
              "      <th>index</th>\n",
              "      <th>city</th>\n",
              "    </tr>\n",
              "  </thead>\n",
              "  <tbody>\n",
              "    <tr>\n",
              "      <th>0</th>\n",
              "      <td>San Diego</td>\n",
              "      <td>1924</td>\n",
              "    </tr>\n",
              "    <tr>\n",
              "      <th>1</th>\n",
              "      <td>Los Angeles</td>\n",
              "      <td>1603</td>\n",
              "    </tr>\n",
              "    <tr>\n",
              "      <th>2</th>\n",
              "      <td>Chicago</td>\n",
              "      <td>1186</td>\n",
              "    </tr>\n",
              "    <tr>\n",
              "      <th>3</th>\n",
              "      <td>San Francisco</td>\n",
              "      <td>1120</td>\n",
              "    </tr>\n",
              "    <tr>\n",
              "      <th>4</th>\n",
              "      <td>New York</td>\n",
              "      <td>1085</td>\n",
              "    </tr>\n",
              "    <tr>\n",
              "      <th>...</th>\n",
              "      <td>...</td>\n",
              "      <td>...</td>\n",
              "    </tr>\n",
              "    <tr>\n",
              "      <th>3596</th>\n",
              "      <td>Greenland</td>\n",
              "      <td>1</td>\n",
              "    </tr>\n",
              "    <tr>\n",
              "      <th>3597</th>\n",
              "      <td>Gardner</td>\n",
              "      <td>1</td>\n",
              "    </tr>\n",
              "    <tr>\n",
              "      <th>3598</th>\n",
              "      <td>Saint Albans</td>\n",
              "      <td>1</td>\n",
              "    </tr>\n",
              "    <tr>\n",
              "      <th>3599</th>\n",
              "      <td>Cataumet</td>\n",
              "      <td>1</td>\n",
              "    </tr>\n",
              "    <tr>\n",
              "      <th>3600</th>\n",
              "      <td>Sunrise Beach</td>\n",
              "      <td>1</td>\n",
              "    </tr>\n",
              "  </tbody>\n",
              "</table>\n",
              "<p>3601 rows × 2 columns</p>\n",
              "</div>"
            ],
            "text/plain": [
              "              index  city\n",
              "0         San Diego  1924\n",
              "1       Los Angeles  1603\n",
              "2           Chicago  1186\n",
              "3     San Francisco  1120\n",
              "4          New York  1085\n",
              "...             ...   ...\n",
              "3596      Greenland     1\n",
              "3597        Gardner     1\n",
              "3598   Saint Albans     1\n",
              "3599       Cataumet     1\n",
              "3600  Sunrise Beach     1\n",
              "\n",
              "[3601 rows x 2 columns]"
            ]
          },
          "metadata": {
            "tags": []
          },
          "execution_count": 68
        }
      ]
    },
    {
      "cell_type": "code",
      "metadata": {
        "id": "ciYbZEjNpyqN",
        "colab_type": "code",
        "outputId": "de88734c-13b0-49b6-ba3e-4fa7ce130dac",
        "colab": {
          "base_uri": "https://localhost:8080/",
          "height": 343
        }
      },
      "source": [
        "#renaming the columns of the new features\n",
        "top_cities.rename(columns={'index':'cities','city':'rest_count'},inplace=True)\n",
        "top_cities.head(10)"
      ],
      "execution_count": 0,
      "outputs": [
        {
          "output_type": "execute_result",
          "data": {
            "text/html": [
              "<div>\n",
              "<style scoped>\n",
              "    .dataframe tbody tr th:only-of-type {\n",
              "        vertical-align: middle;\n",
              "    }\n",
              "\n",
              "    .dataframe tbody tr th {\n",
              "        vertical-align: top;\n",
              "    }\n",
              "\n",
              "    .dataframe thead th {\n",
              "        text-align: right;\n",
              "    }\n",
              "</style>\n",
              "<table border=\"1\" class=\"dataframe\">\n",
              "  <thead>\n",
              "    <tr style=\"text-align: right;\">\n",
              "      <th></th>\n",
              "      <th>cities</th>\n",
              "      <th>rest_count</th>\n",
              "    </tr>\n",
              "  </thead>\n",
              "  <tbody>\n",
              "    <tr>\n",
              "      <th>0</th>\n",
              "      <td>San Diego</td>\n",
              "      <td>1924</td>\n",
              "    </tr>\n",
              "    <tr>\n",
              "      <th>1</th>\n",
              "      <td>Los Angeles</td>\n",
              "      <td>1603</td>\n",
              "    </tr>\n",
              "    <tr>\n",
              "      <th>2</th>\n",
              "      <td>Chicago</td>\n",
              "      <td>1186</td>\n",
              "    </tr>\n",
              "    <tr>\n",
              "      <th>3</th>\n",
              "      <td>San Francisco</td>\n",
              "      <td>1120</td>\n",
              "    </tr>\n",
              "    <tr>\n",
              "      <th>4</th>\n",
              "      <td>New York</td>\n",
              "      <td>1085</td>\n",
              "    </tr>\n",
              "    <tr>\n",
              "      <th>5</th>\n",
              "      <td>Houston</td>\n",
              "      <td>838</td>\n",
              "    </tr>\n",
              "    <tr>\n",
              "      <th>6</th>\n",
              "      <td>Brooklyn</td>\n",
              "      <td>711</td>\n",
              "    </tr>\n",
              "    <tr>\n",
              "      <th>7</th>\n",
              "      <td>Las Vegas</td>\n",
              "      <td>653</td>\n",
              "    </tr>\n",
              "    <tr>\n",
              "      <th>8</th>\n",
              "      <td>Portland</td>\n",
              "      <td>571</td>\n",
              "    </tr>\n",
              "    <tr>\n",
              "      <th>9</th>\n",
              "      <td>Phoenix</td>\n",
              "      <td>525</td>\n",
              "    </tr>\n",
              "  </tbody>\n",
              "</table>\n",
              "</div>"
            ],
            "text/plain": [
              "          cities  rest_count\n",
              "0      San Diego        1924\n",
              "1    Los Angeles        1603\n",
              "2        Chicago        1186\n",
              "3  San Francisco        1120\n",
              "4       New York        1085\n",
              "5        Houston         838\n",
              "6       Brooklyn         711\n",
              "7      Las Vegas         653\n",
              "8       Portland         571\n",
              "9        Phoenix         525"
            ]
          },
          "metadata": {
            "tags": []
          },
          "execution_count": 69
        }
      ]
    },
    {
      "cell_type": "code",
      "metadata": {
        "id": "huysVRPLrWFT",
        "colab_type": "code",
        "outputId": "62d16003-e6a6-4c2a-fe32-13443ed76174",
        "colab": {
          "base_uri": "https://localhost:8080/",
          "height": 67
        }
      },
      "source": [
        "top_cities.dtypes"
      ],
      "execution_count": 0,
      "outputs": [
        {
          "output_type": "execute_result",
          "data": {
            "text/plain": [
              "cities        object\n",
              "rest_count     int64\n",
              "dtype: object"
            ]
          },
          "metadata": {
            "tags": []
          },
          "execution_count": 70
        }
      ]
    },
    {
      "cell_type": "code",
      "metadata": {
        "id": "j3tfcot4s09q",
        "colab_type": "code",
        "outputId": "8ec27844-f058-4b68-a1a5-e638f60abb3d",
        "colab": {
          "base_uri": "https://localhost:8080/",
          "height": 303
        }
      },
      "source": [
        "#control visualization plot\n",
        "top_cities.head(10).plot(kind='barh',title='Top Cities With Taco or Burrito r')\n",
        "plt.show()"
      ],
      "execution_count": 0,
      "outputs": [
        {
          "output_type": "display_data",
          "data": {
            "image/png": "[encoded data removed]",
            "text/plain": [
              "<Figure size 432x288 with 1 Axes>"
            ]
          },
          "metadata": {
            "tags": []
          }
        }
      ]
    },
    {
      "cell_type": "code",
      "metadata": {
        "id": "MNeN7qJlABla",
        "colab_type": "code",
        "outputId": "78bf6ea4-6ad3-4239-90b7-efaae46bb453",
        "colab": {
          "base_uri": "https://localhost:8080/",
          "height": 343
        }
      },
      "source": [
        "#top 10 cities filtered\n",
        "top_10 = top_cities.head(10)\n",
        "top_10"
      ],
      "execution_count": 0,
      "outputs": [
        {
          "output_type": "execute_result",
          "data": {
            "text/html": [
              "<div>\n",
              "<style scoped>\n",
              "    .dataframe tbody tr th:only-of-type {\n",
              "        vertical-align: middle;\n",
              "    }\n",
              "\n",
              "    .dataframe tbody tr th {\n",
              "        vertical-align: top;\n",
              "    }\n",
              "\n",
              "    .dataframe thead th {\n",
              "        text-align: right;\n",
              "    }\n",
              "</style>\n",
              "<table border=\"1\" class=\"dataframe\">\n",
              "  <thead>\n",
              "    <tr style=\"text-align: right;\">\n",
              "      <th></th>\n",
              "      <th>cities</th>\n",
              "      <th>rest_count</th>\n",
              "    </tr>\n",
              "  </thead>\n",
              "  <tbody>\n",
              "    <tr>\n",
              "      <th>0</th>\n",
              "      <td>San Diego</td>\n",
              "      <td>1924</td>\n",
              "    </tr>\n",
              "    <tr>\n",
              "      <th>1</th>\n",
              "      <td>Los Angeles</td>\n",
              "      <td>1603</td>\n",
              "    </tr>\n",
              "    <tr>\n",
              "      <th>2</th>\n",
              "      <td>Chicago</td>\n",
              "      <td>1186</td>\n",
              "    </tr>\n",
              "    <tr>\n",
              "      <th>3</th>\n",
              "      <td>San Francisco</td>\n",
              "      <td>1120</td>\n",
              "    </tr>\n",
              "    <tr>\n",
              "      <th>4</th>\n",
              "      <td>New York</td>\n",
              "      <td>1085</td>\n",
              "    </tr>\n",
              "    <tr>\n",
              "      <th>5</th>\n",
              "      <td>Houston</td>\n",
              "      <td>838</td>\n",
              "    </tr>\n",
              "    <tr>\n",
              "      <th>6</th>\n",
              "      <td>Brooklyn</td>\n",
              "      <td>711</td>\n",
              "    </tr>\n",
              "    <tr>\n",
              "      <th>7</th>\n",
              "      <td>Las Vegas</td>\n",
              "      <td>653</td>\n",
              "    </tr>\n",
              "    <tr>\n",
              "      <th>8</th>\n",
              "      <td>Portland</td>\n",
              "      <td>571</td>\n",
              "    </tr>\n",
              "    <tr>\n",
              "      <th>9</th>\n",
              "      <td>Phoenix</td>\n",
              "      <td>525</td>\n",
              "    </tr>\n",
              "  </tbody>\n",
              "</table>\n",
              "</div>"
            ],
            "text/plain": [
              "          cities  rest_count\n",
              "0      San Diego        1924\n",
              "1    Los Angeles        1603\n",
              "2        Chicago        1186\n",
              "3  San Francisco        1120\n",
              "4       New York        1085\n",
              "5        Houston         838\n",
              "6       Brooklyn         711\n",
              "7      Las Vegas         653\n",
              "8       Portland         571\n",
              "9        Phoenix         525"
            ]
          },
          "metadata": {
            "tags": []
          },
          "execution_count": 72
        }
      ]
    },
    {
      "cell_type": "code",
      "metadata": {
        "id": "C31QbM2OibEj",
        "colab_type": "code",
        "outputId": "6e595e74-801f-460f-89b2-472a83a631f7",
        "colab": {
          "base_uri": "https://localhost:8080/",
          "height": 202
        }
      },
      "source": [
        "cities = top_10.cities.sort_values(ascending=False)\n",
        "cities"
      ],
      "execution_count": 0,
      "outputs": [
        {
          "output_type": "execute_result",
          "data": {
            "text/plain": [
              "3    San Francisco\n",
              "0        San Diego\n",
              "8         Portland\n",
              "9          Phoenix\n",
              "4         New York\n",
              "1      Los Angeles\n",
              "7        Las Vegas\n",
              "5          Houston\n",
              "2          Chicago\n",
              "6         Brooklyn\n",
              "Name: cities, dtype: object"
            ]
          },
          "metadata": {
            "tags": []
          },
          "execution_count": 73
        }
      ]
    },
    {
      "cell_type": "code",
      "metadata": {
        "id": "uhWPSQsY6ZTG",
        "colab_type": "code",
        "outputId": "f3069a13-16cd-4334-92a8-11e166b91999",
        "colab": {
          "base_uri": "https://localhost:8080/",
          "height": 322
        }
      },
      "source": [
        "#main barplot explaining what the top cities are\n",
        "fig , ax = plt.subplots()\n",
        "plt.style.use('fivethirtyeight')\n",
        "ax.barh(top_10['cities'],top_10['rest_count'])\n",
        "\n",
        "#fig.set_facecolor('white') i removed this so it looks better\n",
        "ax.set_title('Top 10 US cities with Mexican food Restaurants',fontsize=15)\n",
        "ax.set_ylabel('Cities')\n",
        "ax.set_xlabel('Number of restaurants')\n",
        "ax.grid(b=False)\n",
        "fig.set_frameon(True)\n",
        "plt.show()"
      ],
      "execution_count": 0,
      "outputs": [
        {
          "output_type": "display_data",
          "data": {
            "image/png": "[encoded data removed]",
            "text/plain": [
              "<Figure size 432x288 with 1 Axes>"
            ]
          },
          "metadata": {
            "tags": []
          }
        }
      ]
    },
    {
      "cell_type": "code",
      "metadata": {
        "id": "2yVq_UIvMO3F",
        "colab_type": "code",
        "outputId": "d9923c49-0550-4b9f-9c69-8138baf30962",
        "colab": {
          "base_uri": "https://localhost:8080/",
          "height": 300
        }
      },
      "source": [
        "#playing around with a colorbar feature\n",
        "plt.scatter(top_10['rest_count'],top_10['cities'],c=top_10.index)\n",
        "plt.title('Top Cities With Mexican Food Restaurants in The US',fontsize=15)\n",
        "plt.colorbar()\n",
        "plt.show()"
      ],
      "execution_count": 0,
      "outputs": [
        {
          "output_type": "display_data",
          "data": {
            "image/png": "[encoded data removed]",
            "text/plain": [
              "<Figure size 432x288 with 2 Axes>"
            ]
          },
          "metadata": {
            "tags": []
          }
        }
      ]
    },
    {
      "cell_type": "code",
      "metadata": {
        "id": "MqCsD5h44XN0",
        "colab_type": "code",
        "outputId": "1132ee9f-2045-4993-ff1a-166cd36bdb4f",
        "colab": {
          "base_uri": "https://localhost:8080/",
          "height": 300
        }
      },
      "source": [
        "#here is the 2 plot for my data\n",
        "fig , ax = plt.subplots()\n",
        "plt.style.use('fivethirtyeight')\n",
        "\n",
        "ax.scatter(top_10['rest_count'],top_10['cities'],c=top_10.index)\n",
        "ax.set_title('Top cities with Mexican Food Restaurants in the US',fontsize=15)\n",
        "ax.invert_yaxis()\n",
        "plt.show()"
      ],
      "execution_count": 0,
      "outputs": [
        {
          "output_type": "display_data",
          "data": {
            "image/png": "[encoded data removed]",
            "text/plain": [
              "<Figure size 432x288 with 1 Axes>"
            ]
          },
          "metadata": {
            "tags": []
          }
        }
      ]
    },
    {
      "cell_type": "code",
      "metadata": {
        "id": "o6P_PfSF-zmZ",
        "colab_type": "code",
        "outputId": "2b075d8e-532b-46db-820b-9ae23f2856c7",
        "colab": {
          "base_uri": "https://localhost:8080/",
          "height": 118
        }
      },
      "source": [
        "#attempt to make a heatmap with google maps\n",
        "pip install gmplot"
      ],
      "execution_count": 0,
      "outputs": [
        {
          "output_type": "stream",
          "text": [
            "Requirement already satisfied: gmplot in /usr/local/lib/python3.6/dist-packages (1.2.0)\n",
            "Requirement already satisfied: requests in /usr/local/lib/python3.6/dist-packages (from gmplot) (2.21.0)\n",
            "Requirement already satisfied: certifi>=2017.4.17 in /usr/local/lib/python3.6/dist-packages (from requests->gmplot) (2019.11.28)\n",
            "Requirement already satisfied: urllib3<1.25,>=1.21.1 in /usr/local/lib/python3.6/dist-packages (from requests->gmplot) (1.24.3)\n",
            "Requirement already satisfied: chardet<3.1.0,>=3.0.2 in /usr/local/lib/python3.6/dist-packages (from requests->gmplot) (3.0.4)\n",
            "Requirement already satisfied: idna<2.9,>=2.5 in /usr/local/lib/python3.6/dist-packages (from requests->gmplot) (2.8)\n"
          ],
          "name": "stdout"
        }
      ]
    },
    {
      "cell_type": "code",
      "metadata": {
        "id": "TfeVVWWZtIvT",
        "colab_type": "code",
        "colab": {}
      },
      "source": [
        "import gmplot\n",
        "from IPython.display import display"
      ],
      "execution_count": 0,
      "outputs": []
    },
    {
      "cell_type": "code",
      "metadata": {
        "id": "msGFLEDatfua",
        "colab_type": "code",
        "colab": {}
      },
      "source": [
        "#setting up the lat lon variables\n",
        "latitude = df['latitude']\n",
        "longitude = df['longitude']\n",
        "#setting up the map initial point\n",
        "gmap = gmplot.GoogleMapPlotter(38.878043,-96.671332,5)\n",
        "gmap.heatmap(latitude,longitude)\n",
        "gmap.draw('my_heatmap.html')"
      ],
      "execution_count": 0,
      "outputs": []
    },
    {
      "cell_type": "markdown",
      "metadata": {
        "id": "0TPvMxldyE1V",
        "colab_type": "text"
      },
      "source": [
        "# heatmap: fail\n",
        "i attempted to make a heatmap with this library but i was not loading correctly, not sure why."
      ]
    },
    {
      "cell_type": "code",
      "metadata": {
        "id": "vA0411hFulYK",
        "colab_type": "code",
        "outputId": "0cd4fec8-47d6-406a-b7f0-4f9a00537bf7",
        "colab": {
          "base_uri": "https://localhost:8080/",
          "height": 287
        }
      },
      "source": [
        "#in this plot i was jut playing a littlebit with the data\n",
        "plt.scatter(latitude,longitude)\n",
        "plt.colorbar()\n",
        "plt.show()"
      ],
      "execution_count": 0,
      "outputs": [
        {
          "output_type": "display_data",
          "data": {
            "image/png": "[encoded data removed]",
            "text/plain": [
              "<Figure size 432x288 with 2 Axes>"
            ]
          },
          "metadata": {
            "tags": []
          }
        }
      ]
    },
    {
      "cell_type": "code",
      "metadata": {
        "id": "LmB_aboxH7iC",
        "colab_type": "code",
        "colab": {}
      },
      "source": [
        ""
      ],
      "execution_count": 0,
      "outputs": []
    }
  ]
}